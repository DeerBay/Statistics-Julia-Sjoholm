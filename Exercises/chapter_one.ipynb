{
 "cells": [
  {
   "cell_type": "markdown",
   "metadata": {},
   "source": [
    "### Uppgift 2.5\n",
    "Sture drar slumpmässigt ett kort från en vanlig kortlek med 52 kort utan att titta. Stures kompis Allan drar sedan ett kort från de återstående korten utan att titta.<br>\n",
    "\n",
    "- Vad är sannolikheten att Sture har ruter 10?\n",
    "- Vad är sannolikheten att Allan har ruter 10?\n",
    "- Om Allan vänder upp sitt kort och det visar sig vara klöver 2, hur sannolikt är det att Stures kort är ruter 10?"
   ]
  },
  {
   "cell_type": "code",
   "execution_count": 4,
   "metadata": {},
   "outputs": [
    {
     "name": "stdout",
     "output_type": "stream",
     "text": [
      "Sannolikheten att Sture drar ruter 10 är: 0.019230769230769232\n",
      "Sannolikheten att Allan drar ruter 10 är: 0.0196078431372549\n"
     ]
    }
   ],
   "source": [
    "print(f\"Sannolikheten att Sture drar ruter 10 är: {1/52}\")\n",
    "print(f\"Sannolikheten att Allan drar ruter 10 är: {1/51}\")"
   ]
  },
  {
   "cell_type": "markdown",
   "metadata": {},
   "source": [
    "\n",
    "$P(A|B)=\\\\dfrac{P(A \\\\cap B)}{P(B)}$"
   ]
  }
 ],
 "metadata": {
  "kernelspec": {
   "display_name": "Statistics-Julia-Sjoholm-FiPAjG2L",
   "language": "python",
   "name": "python3"
  },
  "language_info": {
   "codemirror_mode": {
    "name": "ipython",
    "version": 3
   },
   "file_extension": ".py",
   "mimetype": "text/x-python",
   "name": "python",
   "nbconvert_exporter": "python",
   "pygments_lexer": "ipython3",
   "version": "3.12.0"
  }
 },
 "nbformat": 4,
 "nbformat_minor": 2
}
